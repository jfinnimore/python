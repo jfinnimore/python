{
 "cells": [
  {
   "cell_type": "markdown",
   "metadata": {},
   "source": [
    "Poll Election Data Project \n",
    "\n",
    "In this Data Project I will be looking at data from the 2016 election.\n",
    "\n",
    "In this project I analyze the results of political polls. The analysis is of aggregated poll data and will answer some questions:\n",
    "\n",
    "1.) Who was being polled and what was their party affiliation?\n",
    "2.) Did the poll results favor Trump or Clinton?\n",
    "3.) How do undecided voters effect the poll?\n",
    "4.) Can we account for the undecided voters?\n",
    "5.) How did voter sentiment change over time?\n",
    "6.) Can we see an effect in the polls from the debates?\n",
    "\n",
    "Let's go ahead and start with our standard imports:"
   ]
  },
  {
   "cell_type": "code",
   "execution_count": 1,
   "metadata": {
    "collapsed": true
   },
   "outputs": [],
   "source": [
    "# For data\n",
    "import pandas as pd\n",
    "from pandas import Series,DataFrame\n",
    "import numpy as np\n",
    "\n",
    "# For visualization\n",
    "import matplotlib.pyplot as plt\n",
    "import seaborn as sns\n",
    "sns.set_style('whitegrid')\n",
    "%matplotlib inline\n",
    "\n",
    "# python 2 users:\n",
    "# from __future__ import division"
   ]
  },
  {
   "cell_type": "markdown",
   "metadata": {},
   "source": [
    "The data for the polls will be obtained from HuffPost Pollster. I'm going to use the requests module to import some data from the web. \n",
    "\n",
    "I will also be using StringIO to work with csv data from HuffPost. StringIO provides a convenient means of working with text in memory using the file API."
   ]
  },
  {
   "cell_type": "code",
   "execution_count": 2,
   "metadata": {
    "collapsed": false
   },
   "outputs": [],
   "source": [
    "# Use to grab data from the web(HTTP capabilities)\n",
    "import requests\n",
    "\n",
    "# Imports StringIO to work with the csv file, the DataFrame will require a .read() method\n",
    "from io import StringIO"
   ]
  },
  {
   "cell_type": "code",
   "execution_count": 3,
   "metadata": {
    "collapsed": false
   },
   "outputs": [],
   "source": [
    "# This is the url link for the poll data in csv form\n",
    "url = \"http://elections.huffingtonpost.com/pollster/2016-general-election-trump-vs-clinton.csv\"\n",
    "\n",
    "# Use requests to get the information in text form\n",
    "source = requests.get(url).text\n",
    "\n",
    "# Use StringIO to avoid an IO error with pandas\n",
    "poll_data = StringIO(source) "
   ]
  },
  {
   "cell_type": "markdown",
   "metadata": {
    "collapsed": true
   },
   "source": [
    "Now that I have our data, I can set it as a DataFrame."
   ]
  },
  {
   "cell_type": "code",
   "execution_count": 4,
   "metadata": {
    "collapsed": false
   },
   "outputs": [
    {
     "name": "stdout",
     "output_type": "stream",
     "text": [
      "<class 'pandas.core.frame.DataFrame'>\n",
      "RangeIndex: 1522 entries, 0 to 1521\n",
      "Data columns (total 17 columns):\n",
      "Pollster                  1522 non-null object\n",
      "Start Date                1522 non-null object\n",
      "End Date                  1522 non-null object\n",
      "Entry Date/Time (ET)      1522 non-null object\n",
      "Number of Observations    1013 non-null float64\n",
      "Population                1522 non-null object\n",
      "Mode                      1522 non-null object\n",
      "Trump                     1522 non-null float64\n",
      "Clinton                   1522 non-null float64\n",
      "Other                     1098 non-null float64\n",
      "Undecided                 1460 non-null float64\n",
      "Pollster URL              1522 non-null object\n",
      "Source URL                1522 non-null object\n",
      "Partisan                  1522 non-null object\n",
      "Affiliation               1522 non-null object\n",
      "Question Text             661 non-null object\n",
      "Question Iteration        1522 non-null int64\n",
      "dtypes: float64(5), int64(1), object(11)\n",
      "memory usage: 136.8+ KB\n"
     ]
    }
   ],
   "source": [
    "# Set poll data as pandas DataFrame\n",
    "poll_df = pd.read_csv(poll_data)\n",
    "\n",
    "# Let's get a glimpse at the data\n",
    "poll_df.info()"
   ]
  },
  {
   "cell_type": "markdown",
   "metadata": {},
   "source": [
    "Great! Now let's get a quick look with .head()"
   ]
  },
  {
   "cell_type": "code",
   "execution_count": 5,
   "metadata": {
    "collapsed": false
   },
   "outputs": [
    {
     "data": {
      "text/html": [
       "<div>\n",
       "<table border=\"1\" class=\"dataframe\">\n",
       "  <thead>\n",
       "    <tr style=\"text-align: right;\">\n",
       "      <th></th>\n",
       "      <th>Pollster</th>\n",
       "      <th>Start Date</th>\n",
       "      <th>End Date</th>\n",
       "      <th>Entry Date/Time (ET)</th>\n",
       "      <th>Number of Observations</th>\n",
       "      <th>Population</th>\n",
       "      <th>Mode</th>\n",
       "      <th>Trump</th>\n",
       "      <th>Clinton</th>\n",
       "      <th>Other</th>\n",
       "      <th>Undecided</th>\n",
       "      <th>Pollster URL</th>\n",
       "      <th>Source URL</th>\n",
       "      <th>Partisan</th>\n",
       "      <th>Affiliation</th>\n",
       "      <th>Question Text</th>\n",
       "      <th>Question Iteration</th>\n",
       "    </tr>\n",
       "  </thead>\n",
       "  <tbody>\n",
       "    <tr>\n",
       "      <th>0</th>\n",
       "      <td>Insights West</td>\n",
       "      <td>2016-11-04</td>\n",
       "      <td>2016-11-07</td>\n",
       "      <td>2016-11-08T12:16:30Z</td>\n",
       "      <td>940.0</td>\n",
       "      <td>Likely Voters</td>\n",
       "      <td>Internet</td>\n",
       "      <td>41.0</td>\n",
       "      <td>45.0</td>\n",
       "      <td>2.0</td>\n",
       "      <td>8.0</td>\n",
       "      <td>http://elections.huffingtonpost.com/pollster/p...</td>\n",
       "      <td>http://www.insightswest.com/news/clinton-is-ah...</td>\n",
       "      <td>Nonpartisan</td>\n",
       "      <td>None</td>\n",
       "      <td>As you may know, there will be a presidential ...</td>\n",
       "      <td>1</td>\n",
       "    </tr>\n",
       "    <tr>\n",
       "      <th>1</th>\n",
       "      <td>Insights West</td>\n",
       "      <td>2016-11-04</td>\n",
       "      <td>2016-11-07</td>\n",
       "      <td>2016-11-08T12:16:30Z</td>\n",
       "      <td>NaN</td>\n",
       "      <td>Likely Voters - Democrat</td>\n",
       "      <td>Internet</td>\n",
       "      <td>6.0</td>\n",
       "      <td>89.0</td>\n",
       "      <td>0.0</td>\n",
       "      <td>4.0</td>\n",
       "      <td>http://elections.huffingtonpost.com/pollster/p...</td>\n",
       "      <td>http://www.insightswest.com/news/clinton-is-ah...</td>\n",
       "      <td>Nonpartisan</td>\n",
       "      <td>None</td>\n",
       "      <td>As you may know, there will be a presidential ...</td>\n",
       "      <td>1</td>\n",
       "    </tr>\n",
       "    <tr>\n",
       "      <th>2</th>\n",
       "      <td>Insights West</td>\n",
       "      <td>2016-11-04</td>\n",
       "      <td>2016-11-07</td>\n",
       "      <td>2016-11-08T12:16:30Z</td>\n",
       "      <td>NaN</td>\n",
       "      <td>Likely Voters - Republican</td>\n",
       "      <td>Internet</td>\n",
       "      <td>82.0</td>\n",
       "      <td>7.0</td>\n",
       "      <td>2.0</td>\n",
       "      <td>6.0</td>\n",
       "      <td>http://elections.huffingtonpost.com/pollster/p...</td>\n",
       "      <td>http://www.insightswest.com/news/clinton-is-ah...</td>\n",
       "      <td>Nonpartisan</td>\n",
       "      <td>None</td>\n",
       "      <td>As you may know, there will be a presidential ...</td>\n",
       "      <td>1</td>\n",
       "    </tr>\n",
       "    <tr>\n",
       "      <th>3</th>\n",
       "      <td>Insights West</td>\n",
       "      <td>2016-11-04</td>\n",
       "      <td>2016-11-07</td>\n",
       "      <td>2016-11-08T12:16:30Z</td>\n",
       "      <td>NaN</td>\n",
       "      <td>Likely Voters - independent</td>\n",
       "      <td>Internet</td>\n",
       "      <td>38.0</td>\n",
       "      <td>43.0</td>\n",
       "      <td>4.0</td>\n",
       "      <td>7.0</td>\n",
       "      <td>http://elections.huffingtonpost.com/pollster/p...</td>\n",
       "      <td>http://www.insightswest.com/news/clinton-is-ah...</td>\n",
       "      <td>Nonpartisan</td>\n",
       "      <td>None</td>\n",
       "      <td>As you may know, there will be a presidential ...</td>\n",
       "      <td>1</td>\n",
       "    </tr>\n",
       "    <tr>\n",
       "      <th>4</th>\n",
       "      <td>IBD/TIPP</td>\n",
       "      <td>2016-11-04</td>\n",
       "      <td>2016-11-07</td>\n",
       "      <td>2016-11-08T12:10:06Z</td>\n",
       "      <td>1107.0</td>\n",
       "      <td>Likely Voters</td>\n",
       "      <td>Live Phone</td>\n",
       "      <td>43.0</td>\n",
       "      <td>41.0</td>\n",
       "      <td>4.0</td>\n",
       "      <td>5.0</td>\n",
       "      <td>http://elections.huffingtonpost.com/pollster/p...</td>\n",
       "      <td>http://www.investors.com/politics/ibd-tipp-pre...</td>\n",
       "      <td>Nonpartisan</td>\n",
       "      <td>None</td>\n",
       "      <td>NaN</td>\n",
       "      <td>1</td>\n",
       "    </tr>\n",
       "  </tbody>\n",
       "</table>\n",
       "</div>"
      ],
      "text/plain": [
       "        Pollster  Start Date    End Date  Entry Date/Time (ET)  \\\n",
       "0  Insights West  2016-11-04  2016-11-07  2016-11-08T12:16:30Z   \n",
       "1  Insights West  2016-11-04  2016-11-07  2016-11-08T12:16:30Z   \n",
       "2  Insights West  2016-11-04  2016-11-07  2016-11-08T12:16:30Z   \n",
       "3  Insights West  2016-11-04  2016-11-07  2016-11-08T12:16:30Z   \n",
       "4       IBD/TIPP  2016-11-04  2016-11-07  2016-11-08T12:10:06Z   \n",
       "\n",
       "   Number of Observations                   Population        Mode  Trump  \\\n",
       "0                   940.0                Likely Voters    Internet   41.0   \n",
       "1                     NaN     Likely Voters - Democrat    Internet    6.0   \n",
       "2                     NaN   Likely Voters - Republican    Internet   82.0   \n",
       "3                     NaN  Likely Voters - independent    Internet   38.0   \n",
       "4                  1107.0                Likely Voters  Live Phone   43.0   \n",
       "\n",
       "   Clinton  Other  Undecided  \\\n",
       "0     45.0    2.0        8.0   \n",
       "1     89.0    0.0        4.0   \n",
       "2      7.0    2.0        6.0   \n",
       "3     43.0    4.0        7.0   \n",
       "4     41.0    4.0        5.0   \n",
       "\n",
       "                                        Pollster URL  \\\n",
       "0  http://elections.huffingtonpost.com/pollster/p...   \n",
       "1  http://elections.huffingtonpost.com/pollster/p...   \n",
       "2  http://elections.huffingtonpost.com/pollster/p...   \n",
       "3  http://elections.huffingtonpost.com/pollster/p...   \n",
       "4  http://elections.huffingtonpost.com/pollster/p...   \n",
       "\n",
       "                                          Source URL     Partisan Affiliation  \\\n",
       "0  http://www.insightswest.com/news/clinton-is-ah...  Nonpartisan        None   \n",
       "1  http://www.insightswest.com/news/clinton-is-ah...  Nonpartisan        None   \n",
       "2  http://www.insightswest.com/news/clinton-is-ah...  Nonpartisan        None   \n",
       "3  http://www.insightswest.com/news/clinton-is-ah...  Nonpartisan        None   \n",
       "4  http://www.investors.com/politics/ibd-tipp-pre...  Nonpartisan        None   \n",
       "\n",
       "                                       Question Text  Question Iteration  \n",
       "0  As you may know, there will be a presidential ...                   1  \n",
       "1  As you may know, there will be a presidential ...                   1  \n",
       "2  As you may know, there will be a presidential ...                   1  \n",
       "3  As you may know, there will be a presidential ...                   1  \n",
       "4                                                NaN                   1  "
      ]
     },
     "execution_count": 5,
     "metadata": {},
     "output_type": "execute_result"
    }
   ],
   "source": [
    "poll_df.head()"
   ]
  },
  {
   "cell_type": "code",
   "execution_count": 6,
   "metadata": {
    "collapsed": false
   },
   "outputs": [
    {
     "data": {
      "text/plain": [
       "<seaborn.axisgrid.FacetGrid at 0x4522ad0>"
      ]
     },
     "execution_count": 6,
     "metadata": {},
     "output_type": "execute_result"
    },
    {
     "data": {
      "image/png": "[encoded data removed]",
      "text/plain": [
       "<matplotlib.figure.Figure at 0x6921d70>"
      ]
     },
     "metadata": {},
     "output_type": "display_data"
    }
   ],
   "source": [
    "# Factorplot the affiliation\n",
    "sns.factorplot('Affiliation',kind = 'count',data=poll_df)"
   ]
  },
  {
   "cell_type": "code",
   "execution_count": 7,
   "metadata": {
    "collapsed": false
   },
   "outputs": [
    {
     "data": {
      "text/plain": [
       "<seaborn.axisgrid.FacetGrid at 0x69c3870>"
      ]
     },
     "execution_count": 7,
     "metadata": {},
     "output_type": "execute_result"
    },
    {
     "data": {
      "image/png": "[encoded data removed]",
      "text/plain": [
       "<matplotlib.figure.Figure at 0x698abd0>"
      ]
     },
     "metadata": {},
     "output_type": "display_data"
    }
   ],
   "source": [
    "# Factorplot the affiliation by Population\n",
    "sns.factorplot('Affiliation',kind='count',data=poll_df,hue='Population')"
   ]
  },
  {
   "cell_type": "code",
   "execution_count": 9,
   "metadata": {
    "collapsed": false
   },
   "outputs": [
    {
     "data": {
      "text/html": [
       "<div>\n",
       "<table border=\"1\" class=\"dataframe\">\n",
       "  <thead>\n",
       "    <tr style=\"text-align: right;\">\n",
       "      <th></th>\n",
       "      <th>Pollster</th>\n",
       "      <th>Start Date</th>\n",
       "      <th>End Date</th>\n",
       "      <th>Entry Date/Time (ET)</th>\n",
       "      <th>Number of Observations</th>\n",
       "      <th>Population</th>\n",
       "      <th>Mode</th>\n",
       "      <th>Trump</th>\n",
       "      <th>Clinton</th>\n",
       "      <th>Other</th>\n",
       "      <th>Undecided</th>\n",
       "      <th>Pollster URL</th>\n",
       "      <th>Source URL</th>\n",
       "      <th>Partisan</th>\n",
       "      <th>Affiliation</th>\n",
       "      <th>Question Text</th>\n",
       "      <th>Question Iteration</th>\n",
       "    </tr>\n",
       "  </thead>\n",
       "  <tbody>\n",
       "    <tr>\n",
       "      <th>0</th>\n",
       "      <td>Insights West</td>\n",
       "      <td>2016-11-04</td>\n",
       "      <td>2016-11-07</td>\n",
       "      <td>2016-11-08T12:16:30Z</td>\n",
       "      <td>940.0</td>\n",
       "      <td>Likely Voters</td>\n",
       "      <td>Internet</td>\n",
       "      <td>41.0</td>\n",
       "      <td>45.0</td>\n",
       "      <td>2.0</td>\n",
       "      <td>8.0</td>\n",
       "      <td>http://elections.huffingtonpost.com/pollster/p...</td>\n",
       "      <td>http://www.insightswest.com/news/clinton-is-ah...</td>\n",
       "      <td>Nonpartisan</td>\n",
       "      <td>None</td>\n",
       "      <td>As you may know, there will be a presidential ...</td>\n",
       "      <td>1</td>\n",
       "    </tr>\n",
       "    <tr>\n",
       "      <th>1</th>\n",
       "      <td>Insights West</td>\n",
       "      <td>2016-11-04</td>\n",
       "      <td>2016-11-07</td>\n",
       "      <td>2016-11-08T12:16:30Z</td>\n",
       "      <td>NaN</td>\n",
       "      <td>Likely Voters - Democrat</td>\n",
       "      <td>Internet</td>\n",
       "      <td>6.0</td>\n",
       "      <td>89.0</td>\n",
       "      <td>0.0</td>\n",
       "      <td>4.0</td>\n",
       "      <td>http://elections.huffingtonpost.com/pollster/p...</td>\n",
       "      <td>http://www.insightswest.com/news/clinton-is-ah...</td>\n",
       "      <td>Nonpartisan</td>\n",
       "      <td>None</td>\n",
       "      <td>As you may know, there will be a presidential ...</td>\n",
       "      <td>1</td>\n",
       "    </tr>\n",
       "    <tr>\n",
       "      <th>2</th>\n",
       "      <td>Insights West</td>\n",
       "      <td>2016-11-04</td>\n",
       "      <td>2016-11-07</td>\n",
       "      <td>2016-11-08T12:16:30Z</td>\n",
       "      <td>NaN</td>\n",
       "      <td>Likely Voters - Republican</td>\n",
       "      <td>Internet</td>\n",
       "      <td>82.0</td>\n",
       "      <td>7.0</td>\n",
       "      <td>2.0</td>\n",
       "      <td>6.0</td>\n",
       "      <td>http://elections.huffingtonpost.com/pollster/p...</td>\n",
       "      <td>http://www.insightswest.com/news/clinton-is-ah...</td>\n",
       "      <td>Nonpartisan</td>\n",
       "      <td>None</td>\n",
       "      <td>As you may know, there will be a presidential ...</td>\n",
       "      <td>1</td>\n",
       "    </tr>\n",
       "    <tr>\n",
       "      <th>3</th>\n",
       "      <td>Insights West</td>\n",
       "      <td>2016-11-04</td>\n",
       "      <td>2016-11-07</td>\n",
       "      <td>2016-11-08T12:16:30Z</td>\n",
       "      <td>NaN</td>\n",
       "      <td>Likely Voters - independent</td>\n",
       "      <td>Internet</td>\n",
       "      <td>38.0</td>\n",
       "      <td>43.0</td>\n",
       "      <td>4.0</td>\n",
       "      <td>7.0</td>\n",
       "      <td>http://elections.huffingtonpost.com/pollster/p...</td>\n",
       "      <td>http://www.insightswest.com/news/clinton-is-ah...</td>\n",
       "      <td>Nonpartisan</td>\n",
       "      <td>None</td>\n",
       "      <td>As you may know, there will be a presidential ...</td>\n",
       "      <td>1</td>\n",
       "    </tr>\n",
       "    <tr>\n",
       "      <th>4</th>\n",
       "      <td>IBD/TIPP</td>\n",
       "      <td>2016-11-04</td>\n",
       "      <td>2016-11-07</td>\n",
       "      <td>2016-11-08T12:10:06Z</td>\n",
       "      <td>1107.0</td>\n",
       "      <td>Likely Voters</td>\n",
       "      <td>Live Phone</td>\n",
       "      <td>43.0</td>\n",
       "      <td>41.0</td>\n",
       "      <td>4.0</td>\n",
       "      <td>5.0</td>\n",
       "      <td>http://elections.huffingtonpost.com/pollster/p...</td>\n",
       "      <td>http://www.investors.com/politics/ibd-tipp-pre...</td>\n",
       "      <td>Nonpartisan</td>\n",
       "      <td>None</td>\n",
       "      <td>NaN</td>\n",
       "      <td>1</td>\n",
       "    </tr>\n",
       "  </tbody>\n",
       "</table>\n",
       "</div>"
      ],
      "text/plain": [
       "        Pollster  Start Date    End Date  Entry Date/Time (ET)  \\\n",
       "0  Insights West  2016-11-04  2016-11-07  2016-11-08T12:16:30Z   \n",
       "1  Insights West  2016-11-04  2016-11-07  2016-11-08T12:16:30Z   \n",
       "2  Insights West  2016-11-04  2016-11-07  2016-11-08T12:16:30Z   \n",
       "3  Insights West  2016-11-04  2016-11-07  2016-11-08T12:16:30Z   \n",
       "4       IBD/TIPP  2016-11-04  2016-11-07  2016-11-08T12:10:06Z   \n",
       "\n",
       "   Number of Observations                   Population        Mode  Trump  \\\n",
       "0                   940.0                Likely Voters    Internet   41.0   \n",
       "1                     NaN     Likely Voters - Democrat    Internet    6.0   \n",
       "2                     NaN   Likely Voters - Republican    Internet   82.0   \n",
       "3                     NaN  Likely Voters - independent    Internet   38.0   \n",
       "4                  1107.0                Likely Voters  Live Phone   43.0   \n",
       "\n",
       "   Clinton  Other  Undecided  \\\n",
       "0     45.0    2.0        8.0   \n",
       "1     89.0    0.0        4.0   \n",
       "2      7.0    2.0        6.0   \n",
       "3     43.0    4.0        7.0   \n",
       "4     41.0    4.0        5.0   \n",
       "\n",
       "                                        Pollster URL  \\\n",
       "0  http://elections.huffingtonpost.com/pollster/p...   \n",
       "1  http://elections.huffingtonpost.com/pollster/p...   \n",
       "2  http://elections.huffingtonpost.com/pollster/p...   \n",
       "3  http://elections.huffingtonpost.com/pollster/p...   \n",
       "4  http://elections.huffingtonpost.com/pollster/p...   \n",
       "\n",
       "                                          Source URL     Partisan Affiliation  \\\n",
       "0  http://www.insightswest.com/news/clinton-is-ah...  Nonpartisan        None   \n",
       "1  http://www.insightswest.com/news/clinton-is-ah...  Nonpartisan        None   \n",
       "2  http://www.insightswest.com/news/clinton-is-ah...  Nonpartisan        None   \n",
       "3  http://www.insightswest.com/news/clinton-is-ah...  Nonpartisan        None   \n",
       "4  http://www.investors.com/politics/ibd-tipp-pre...  Nonpartisan        None   \n",
       "\n",
       "                                       Question Text  Question Iteration  \n",
       "0  As you may know, there will be a presidential ...                   1  \n",
       "1  As you may know, there will be a presidential ...                   1  \n",
       "2  As you may know, there will be a presidential ...                   1  \n",
       "3  As you may know, there will be a presidential ...                   1  \n",
       "4                                                NaN                   1  "
      ]
     },
     "execution_count": 9,
     "metadata": {},
     "output_type": "execute_result"
    }
   ],
   "source": [
    "poll_df.head()"
   ]
  },
  {
   "cell_type": "code",
   "execution_count": 10,
   "metadata": {
    "collapsed": false
   },
   "outputs": [
    {
     "data": {
      "text/plain": [
       "<matplotlib.axes._subplots.AxesSubplot at 0xc2ddaf0>"
      ]
     },
     "execution_count": 10,
     "metadata": {},
     "output_type": "execute_result"
    },
    {
     "data": {
      "image/png": "[encoded data removed]",
      "text/plain": [
       "<matplotlib.figure.Figure at 0xc2dde30>"
      ]
     },
     "metadata": {},
     "output_type": "display_data"
    }
   ],
   "source": [
    "# First I'll get the average\n",
    "avg = pd.DataFrame(poll_df.mean()) \n",
    "avg.drop('Number of Observations',axis=0,inplace=True)\n",
    "\n",
    "# After that I get the error\n",
    "std = pd.DataFrame(poll_df.std())\n",
    "std.drop('Number of Observations',axis=0,inplace=True)\n",
    "\n",
    "# now plot using pandas built-in plot, with kind='bar' and yerr='std'\n",
    "avg.plot(yerr=std,kind='bar',legend=False)"
   ]
  },
  {
   "cell_type": "markdown",
   "metadata": {},
   "source": [
    "Interesting to see how close these polls seem to be, especially considering the undecided factor. Let's take a look at the numbers."
   ]
  },
  {
   "cell_type": "code",
   "execution_count": 11,
   "metadata": {
    "collapsed": false
   },
   "outputs": [
    {
     "data": {
      "text/html": [
       "<div>\n",
       "<table border=\"1\" class=\"dataframe\">\n",
       "  <thead>\n",
       "    <tr style=\"text-align: right;\">\n",
       "      <th></th>\n",
       "      <th>Average</th>\n",
       "      <th>STD</th>\n",
       "    </tr>\n",
       "  </thead>\n",
       "  <tbody>\n",
       "    <tr>\n",
       "      <th>Trump</th>\n",
       "      <td>40.643890</td>\n",
       "      <td>23.566390</td>\n",
       "    </tr>\n",
       "    <tr>\n",
       "      <th>Clinton</th>\n",
       "      <td>42.733903</td>\n",
       "      <td>25.298731</td>\n",
       "    </tr>\n",
       "    <tr>\n",
       "      <th>Other</th>\n",
       "      <td>5.806011</td>\n",
       "      <td>5.009533</td>\n",
       "    </tr>\n",
       "    <tr>\n",
       "      <th>Undecided</th>\n",
       "      <td>9.315068</td>\n",
       "      <td>6.253118</td>\n",
       "    </tr>\n",
       "    <tr>\n",
       "      <th>Question Iteration</th>\n",
       "      <td>1.216820</td>\n",
       "      <td>0.412214</td>\n",
       "    </tr>\n",
       "  </tbody>\n",
       "</table>\n",
       "</div>"
      ],
      "text/plain": [
       "                      Average        STD\n",
       "Trump               40.643890  23.566390\n",
       "Clinton             42.733903  25.298731\n",
       "Other                5.806011   5.009533\n",
       "Undecided            9.315068   6.253118\n",
       "Question Iteration   1.216820   0.412214"
      ]
     },
     "execution_count": 11,
     "metadata": {},
     "output_type": "execute_result"
    }
   ],
   "source": [
    "# Concatenate the Average and Std DataFrames\n",
    "poll_avg = pd.concat([avg,std],axis=1)\n",
    "\n",
    "#Rename columns\n",
    "poll_avg.columns = ['Average','STD']\n",
    "\n",
    "#Show\n",
    "poll_avg"
   ]
  },
  {
   "cell_type": "markdown",
   "metadata": {},
   "source": [
    "Looks like the polls indicate it as a fairly close race, but what about the undecided voters? Most of them will likely vote for one of the candidates once the election occurs. If I go with the assumption I can split the undecided evenly between the two candidates the observed difference should be an unbiased estimate of the final difference."
   ]
  },
  {
   "cell_type": "markdown",
   "metadata": {},
   "source": [
    "If I wanted to, I could also do a quick (and messy) time series analysis of the voter sentiment by plotting Clinton/Trump favor versus the Poll End Dates. I'm using pandas for this.\n",
    "\n",
    "Note: The time is in reverse chronological order. Also keep in mind the multiple polls per end date."
   ]
  },
  {
   "cell_type": "code",
   "execution_count": 12,
   "metadata": {
    "collapsed": false
   },
   "outputs": [
    {
     "data": {
      "text/plain": [
       "<matplotlib.axes._subplots.AxesSubplot at 0xc3a4910>"
      ]
     },
     "execution_count": 12,
     "metadata": {},
     "output_type": "execute_result"
    },
    {
     "data": {
      "image/png": "[encoded data removed]",
      "text/plain": [
       "<matplotlib.figure.Figure at 0xc2e02f0>"
      ]
     },
     "metadata": {},
     "output_type": "display_data"
    }
   ],
   "source": [
    "# Quick plot of sentiment in the polls versus time.\n",
    "poll_df.plot(x='End Date',y=['Clinton','Trump','Undecided'],marker='o',linestyle='')"
   ]
  },
  {
   "cell_type": "markdown",
   "metadata": {},
   "source": [
    "Now to answer another question related to plotting the sentiment versus time. I need to plot out the difference between Trump and Clinton and how it changes as time moves along."
   ]
  },
  {
   "cell_type": "code",
   "execution_count": 12,
   "metadata": {
    "collapsed": true
   },
   "outputs": [],
   "source": [
    "# For timestamps\n",
    "from datetime import datetime"
   ]
  },
  {
   "cell_type": "markdown",
   "metadata": {},
   "source": [
    "Now I'll define a new column in the poll_df DataFrame to take into account the difference between Trump and Clinton in the polls."
   ]
  },
  {
   "cell_type": "code",
   "execution_count": 13,
   "metadata": {
    "collapsed": false
   },
   "outputs": [
    {
     "data": {
      "text/html": [
       "<div>\n",
       "<table border=\"1\" class=\"dataframe\">\n",
       "  <thead>\n",
       "    <tr style=\"text-align: right;\">\n",
       "      <th></th>\n",
       "      <th>Pollster</th>\n",
       "      <th>Start Date</th>\n",
       "      <th>End Date</th>\n",
       "      <th>Entry Date/Time (ET)</th>\n",
       "      <th>Number of Observations</th>\n",
       "      <th>Population</th>\n",
       "      <th>Mode</th>\n",
       "      <th>Trump</th>\n",
       "      <th>Clinton</th>\n",
       "      <th>Other</th>\n",
       "      <th>Undecided</th>\n",
       "      <th>Pollster URL</th>\n",
       "      <th>Source URL</th>\n",
       "      <th>Partisan</th>\n",
       "      <th>Affiliation</th>\n",
       "      <th>Question Text</th>\n",
       "      <th>Question Iteration</th>\n",
       "      <th>Difference</th>\n",
       "    </tr>\n",
       "  </thead>\n",
       "  <tbody>\n",
       "    <tr>\n",
       "      <th>0</th>\n",
       "      <td>Insights West</td>\n",
       "      <td>2016-11-04</td>\n",
       "      <td>2016-11-07</td>\n",
       "      <td>2016-11-08T12:16:30Z</td>\n",
       "      <td>940.0</td>\n",
       "      <td>Likely Voters</td>\n",
       "      <td>Internet</td>\n",
       "      <td>41.0</td>\n",
       "      <td>45.0</td>\n",
       "      <td>2.0</td>\n",
       "      <td>8.0</td>\n",
       "      <td>http://elections.huffingtonpost.com/pollster/p...</td>\n",
       "      <td>http://www.insightswest.com/news/clinton-is-ah...</td>\n",
       "      <td>Nonpartisan</td>\n",
       "      <td>None</td>\n",
       "      <td>As you may know, there will be a presidential ...</td>\n",
       "      <td>1</td>\n",
       "      <td>0.04</td>\n",
       "    </tr>\n",
       "    <tr>\n",
       "      <th>1</th>\n",
       "      <td>Insights West</td>\n",
       "      <td>2016-11-04</td>\n",
       "      <td>2016-11-07</td>\n",
       "      <td>2016-11-08T12:16:30Z</td>\n",
       "      <td>NaN</td>\n",
       "      <td>Likely Voters - Democrat</td>\n",
       "      <td>Internet</td>\n",
       "      <td>6.0</td>\n",
       "      <td>89.0</td>\n",
       "      <td>0.0</td>\n",
       "      <td>4.0</td>\n",
       "      <td>http://elections.huffingtonpost.com/pollster/p...</td>\n",
       "      <td>http://www.insightswest.com/news/clinton-is-ah...</td>\n",
       "      <td>Nonpartisan</td>\n",
       "      <td>None</td>\n",
       "      <td>As you may know, there will be a presidential ...</td>\n",
       "      <td>1</td>\n",
       "      <td>0.83</td>\n",
       "    </tr>\n",
       "    <tr>\n",
       "      <th>2</th>\n",
       "      <td>Insights West</td>\n",
       "      <td>2016-11-04</td>\n",
       "      <td>2016-11-07</td>\n",
       "      <td>2016-11-08T12:16:30Z</td>\n",
       "      <td>NaN</td>\n",
       "      <td>Likely Voters - Republican</td>\n",
       "      <td>Internet</td>\n",
       "      <td>82.0</td>\n",
       "      <td>7.0</td>\n",
       "      <td>2.0</td>\n",
       "      <td>6.0</td>\n",
       "      <td>http://elections.huffingtonpost.com/pollster/p...</td>\n",
       "      <td>http://www.insightswest.com/news/clinton-is-ah...</td>\n",
       "      <td>Nonpartisan</td>\n",
       "      <td>None</td>\n",
       "      <td>As you may know, there will be a presidential ...</td>\n",
       "      <td>1</td>\n",
       "      <td>-0.75</td>\n",
       "    </tr>\n",
       "    <tr>\n",
       "      <th>3</th>\n",
       "      <td>Insights West</td>\n",
       "      <td>2016-11-04</td>\n",
       "      <td>2016-11-07</td>\n",
       "      <td>2016-11-08T12:16:30Z</td>\n",
       "      <td>NaN</td>\n",
       "      <td>Likely Voters - independent</td>\n",
       "      <td>Internet</td>\n",
       "      <td>38.0</td>\n",
       "      <td>43.0</td>\n",
       "      <td>4.0</td>\n",
       "      <td>7.0</td>\n",
       "      <td>http://elections.huffingtonpost.com/pollster/p...</td>\n",
       "      <td>http://www.insightswest.com/news/clinton-is-ah...</td>\n",
       "      <td>Nonpartisan</td>\n",
       "      <td>None</td>\n",
       "      <td>As you may know, there will be a presidential ...</td>\n",
       "      <td>1</td>\n",
       "      <td>0.05</td>\n",
       "    </tr>\n",
       "    <tr>\n",
       "      <th>4</th>\n",
       "      <td>IBD/TIPP</td>\n",
       "      <td>2016-11-04</td>\n",
       "      <td>2016-11-07</td>\n",
       "      <td>2016-11-08T12:10:06Z</td>\n",
       "      <td>1107.0</td>\n",
       "      <td>Likely Voters</td>\n",
       "      <td>Live Phone</td>\n",
       "      <td>43.0</td>\n",
       "      <td>41.0</td>\n",
       "      <td>4.0</td>\n",
       "      <td>5.0</td>\n",
       "      <td>http://elections.huffingtonpost.com/pollster/p...</td>\n",
       "      <td>http://www.investors.com/politics/ibd-tipp-pre...</td>\n",
       "      <td>Nonpartisan</td>\n",
       "      <td>None</td>\n",
       "      <td>NaN</td>\n",
       "      <td>1</td>\n",
       "      <td>-0.02</td>\n",
       "    </tr>\n",
       "  </tbody>\n",
       "</table>\n",
       "</div>"
      ],
      "text/plain": [
       "        Pollster  Start Date    End Date  Entry Date/Time (ET)  \\\n",
       "0  Insights West  2016-11-04  2016-11-07  2016-11-08T12:16:30Z   \n",
       "1  Insights West  2016-11-04  2016-11-07  2016-11-08T12:16:30Z   \n",
       "2  Insights West  2016-11-04  2016-11-07  2016-11-08T12:16:30Z   \n",
       "3  Insights West  2016-11-04  2016-11-07  2016-11-08T12:16:30Z   \n",
       "4       IBD/TIPP  2016-11-04  2016-11-07  2016-11-08T12:10:06Z   \n",
       "\n",
       "   Number of Observations                   Population        Mode  Trump  \\\n",
       "0                   940.0                Likely Voters    Internet   41.0   \n",
       "1                     NaN     Likely Voters - Democrat    Internet    6.0   \n",
       "2                     NaN   Likely Voters - Republican    Internet   82.0   \n",
       "3                     NaN  Likely Voters - independent    Internet   38.0   \n",
       "4                  1107.0                Likely Voters  Live Phone   43.0   \n",
       "\n",
       "   Clinton  Other  Undecided  \\\n",
       "0     45.0    2.0        8.0   \n",
       "1     89.0    0.0        4.0   \n",
       "2      7.0    2.0        6.0   \n",
       "3     43.0    4.0        7.0   \n",
       "4     41.0    4.0        5.0   \n",
       "\n",
       "                                        Pollster URL  \\\n",
       "0  http://elections.huffingtonpost.com/pollster/p...   \n",
       "1  http://elections.huffingtonpost.com/pollster/p...   \n",
       "2  http://elections.huffingtonpost.com/pollster/p...   \n",
       "3  http://elections.huffingtonpost.com/pollster/p...   \n",
       "4  http://elections.huffingtonpost.com/pollster/p...   \n",
       "\n",
       "                                          Source URL     Partisan Affiliation  \\\n",
       "0  http://www.insightswest.com/news/clinton-is-ah...  Nonpartisan        None   \n",
       "1  http://www.insightswest.com/news/clinton-is-ah...  Nonpartisan        None   \n",
       "2  http://www.insightswest.com/news/clinton-is-ah...  Nonpartisan        None   \n",
       "3  http://www.insightswest.com/news/clinton-is-ah...  Nonpartisan        None   \n",
       "4  http://www.investors.com/politics/ibd-tipp-pre...  Nonpartisan        None   \n",
       "\n",
       "                                       Question Text  Question Iteration  \\\n",
       "0  As you may know, there will be a presidential ...                   1   \n",
       "1  As you may know, there will be a presidential ...                   1   \n",
       "2  As you may know, there will be a presidential ...                   1   \n",
       "3  As you may know, there will be a presidential ...                   1   \n",
       "4                                                NaN                   1   \n",
       "\n",
       "   Difference  \n",
       "0        0.04  \n",
       "1        0.83  \n",
       "2       -0.75  \n",
       "3        0.05  \n",
       "4       -0.02  "
      ]
     },
     "execution_count": 13,
     "metadata": {},
     "output_type": "execute_result"
    }
   ],
   "source": [
    "# Create a new column for the difference between the two candidates\n",
    "poll_df['Difference'] = (poll_df.Clinton - poll_df.Trump)/100\n",
    "# Preview the new column\n",
    "poll_df.head()"
   ]
  },
  {
   "cell_type": "markdown",
   "metadata": {},
   "source": [
    "Great! Keep in mind that the Difference column is Clinton minus Trump, thus a positive difference indicates a leaning towards Clinton in the polls.\n",
    "\n",
    "Now to visualize how this sentiment in difference changes over time. I will start by using groupby to group the polls by their start data and then sorting it by that Start Date."
   ]
  },
  {
   "cell_type": "code",
   "execution_count": 14,
   "metadata": {
    "collapsed": false
   },
   "outputs": [
    {
     "data": {
      "text/html": [
       "<div>\n",
       "<table border=\"1\" class=\"dataframe\">\n",
       "  <thead>\n",
       "    <tr style=\"text-align: right;\">\n",
       "      <th></th>\n",
       "      <th>Start Date</th>\n",
       "      <th>Number of Observations</th>\n",
       "      <th>Trump</th>\n",
       "      <th>Clinton</th>\n",
       "      <th>Other</th>\n",
       "      <th>Undecided</th>\n",
       "      <th>Question Iteration</th>\n",
       "      <th>Difference</th>\n",
       "    </tr>\n",
       "  </thead>\n",
       "  <tbody>\n",
       "    <tr>\n",
       "      <th>0</th>\n",
       "      <td>2015-05-19</td>\n",
       "      <td>1046.00</td>\n",
       "      <td>34.25</td>\n",
       "      <td>48.75</td>\n",
       "      <td>2.5</td>\n",
       "      <td>14.00</td>\n",
       "      <td>1.0</td>\n",
       "      <td>0.1450</td>\n",
       "    </tr>\n",
       "    <tr>\n",
       "      <th>1</th>\n",
       "      <td>2015-06-20</td>\n",
       "      <td>420.75</td>\n",
       "      <td>35.00</td>\n",
       "      <td>47.25</td>\n",
       "      <td>NaN</td>\n",
       "      <td>17.75</td>\n",
       "      <td>1.0</td>\n",
       "      <td>0.1225</td>\n",
       "    </tr>\n",
       "    <tr>\n",
       "      <th>2</th>\n",
       "      <td>2015-06-21</td>\n",
       "      <td>1005.00</td>\n",
       "      <td>34.00</td>\n",
       "      <td>51.00</td>\n",
       "      <td>3.0</td>\n",
       "      <td>12.00</td>\n",
       "      <td>1.0</td>\n",
       "      <td>0.1700</td>\n",
       "    </tr>\n",
       "    <tr>\n",
       "      <th>3</th>\n",
       "      <td>2015-06-26</td>\n",
       "      <td>890.00</td>\n",
       "      <td>36.75</td>\n",
       "      <td>57.00</td>\n",
       "      <td>6.0</td>\n",
       "      <td>0.00</td>\n",
       "      <td>1.0</td>\n",
       "      <td>0.2025</td>\n",
       "    </tr>\n",
       "    <tr>\n",
       "      <th>4</th>\n",
       "      <td>2015-07-09</td>\n",
       "      <td>499.25</td>\n",
       "      <td>35.25</td>\n",
       "      <td>49.50</td>\n",
       "      <td>NaN</td>\n",
       "      <td>16.00</td>\n",
       "      <td>1.0</td>\n",
       "      <td>0.1425</td>\n",
       "    </tr>\n",
       "  </tbody>\n",
       "</table>\n",
       "</div>"
      ],
      "text/plain": [
       "   Start Date  Number of Observations  Trump  Clinton  Other  Undecided  \\\n",
       "0  2015-05-19                 1046.00  34.25    48.75    2.5      14.00   \n",
       "1  2015-06-20                  420.75  35.00    47.25    NaN      17.75   \n",
       "2  2015-06-21                 1005.00  34.00    51.00    3.0      12.00   \n",
       "3  2015-06-26                  890.00  36.75    57.00    6.0       0.00   \n",
       "4  2015-07-09                  499.25  35.25    49.50    NaN      16.00   \n",
       "\n",
       "   Question Iteration  Difference  \n",
       "0                 1.0      0.1450  \n",
       "1                 1.0      0.1225  \n",
       "2                 1.0      0.1700  \n",
       "3                 1.0      0.2025  \n",
       "4                 1.0      0.1425  "
      ]
     },
     "execution_count": 14,
     "metadata": {},
     "output_type": "execute_result"
    }
   ],
   "source": [
    "# Set as_index=Flase to keep the 0,1,2,... index. Then we'll take the mean of the polls on that day.\n",
    "poll_df = poll_df.groupby(['Start Date'],as_index=False).mean()\n",
    "\n",
    "# Let's go ahead and see what this looks like\n",
    "poll_df.head()"
   ]
  },
  {
   "cell_type": "markdown",
   "metadata": {},
   "source": [
    "Great! Now plotting the Differencce versus time should be straight forward."
   ]
  },
  {
   "cell_type": "code",
   "execution_count": 15,
   "metadata": {
    "collapsed": false
   },
   "outputs": [
    {
     "data": {
      "image/png": "[encoded data removed]",
      "text/plain": [
       "<matplotlib.figure.Figure at 0x88cafb0>"
      ]
     },
     "metadata": {},
     "output_type": "display_data"
    }
   ],
   "source": [
    "# Plotting the difference in polls between Clinton and Trump\n",
    "fig = poll_df.plot('Start Date','Difference',figsize=(12,4),marker='o',linestyle='-',color='purple')"
   ]
  },
  {
   "cell_type": "markdown",
   "metadata": {},
   "source": [
    "It would be very interesting to plot marker lines on the dates of the debates and see if there is any general insight to the poll results.\n",
    "\n",
    "The debate dates were September 26th, Oct 9th, and Oct 19th. I've added some plot lines as markers and then zoom in on the end of September through October.\n",
    "\n",
    "In order to find where to set the x limits for the figure I need to find out where the index for the month of September in 2016 is. Here's a simple for loop to find that row. Note, the string format of the date makes this difficult to do without using a lambda expression or a map."
   ]
  },
  {
   "cell_type": "code",
   "execution_count": 16,
   "metadata": {
    "collapsed": false
   },
   "outputs": [
    {
     "name": "stdout",
     "output_type": "stream",
     "text": [
      "232\n",
      "262\n"
     ]
    }
   ],
   "source": [
    "# Set row count and xlimit list\n",
    "row_in = 0\n",
    "xlimit = []\n",
    "\n",
    "# Cycle through dates until 2012-10 is found, then print row index\n",
    "for date in poll_df['Start Date']:\n",
    "    if date[0:7] == '2016-10':\n",
    "        xlimit.append(row_in)\n",
    "        row_in +=1\n",
    "    else:\n",
    "        row_in += 1\n",
    "        \n",
    "print (min(xlimit))\n",
    "print (max(xlimit))"
   ]
  },
  {
   "cell_type": "markdown",
   "metadata": {},
   "source": [
    "Great now we know where to set our x limits for the end of September through the month of October in our figure."
   ]
  },
  {
   "cell_type": "code",
   "execution_count": 17,
   "metadata": {
    "collapsed": false
   },
   "outputs": [
    {
     "data": {
      "text/plain": [
       "<matplotlib.lines.Line2D at 0x8b53bf0>"
      ]
     },
     "execution_count": 17,
     "metadata": {},
     "output_type": "execute_result"
    },
    {
     "data": {
      "image/png": "[encoded data removed]",
      "text/plain": [
       "<matplotlib.figure.Figure at 0x8944230>"
      ]
     },
     "metadata": {},
     "output_type": "display_data"
    }
   ],
   "source": [
    "# Start with original figure\n",
    "fig = poll_df.plot('Start Date','Difference',figsize=(12,4),marker='o',linestyle='-',color='purple',xlim=(220,268))\n",
    "\n",
    "# Now add the debate markers\n",
    "plt.axvline(x=220+7, linewidth=4, color='grey')\n",
    "plt.axvline(x=220+15, linewidth=4, color='grey')\n",
    "plt.axvline(x=220+25, linewidth=4, color='grey')\n",
    "plt.axvline(x=0, ymax=48,linewidth=4, color='r')"
   ]
  },
  {
   "cell_type": "code",
   "execution_count": null,
   "metadata": {
    "collapsed": true
   },
   "outputs": [],
   "source": []
  }
 ],
 "metadata": {
  "anaconda-cloud": {},
  "kernelspec": {
   "display_name": "Python [default]",
   "language": "python",
   "name": "python3"
  },
  "language_info": {
   "codemirror_mode": {
    "name": "ipython",
    "version": 3
   },
   "file_extension": ".py",
   "mimetype": "text/x-python",
   "name": "python",
   "nbconvert_exporter": "python",
   "pygments_lexer": "ipython3",
   "version": "3.5.2"
  }
 },
 "nbformat": 4,
 "nbformat_minor": 0
}
